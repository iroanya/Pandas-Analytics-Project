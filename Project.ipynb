{
 "cells": [
  {
   "cell_type": "code",
   "execution_count": 1,
   "id": "064beba9",
   "metadata": {},
   "outputs": [],
   "source": [
    "import os\n",
    "import io\n",
    "import glob\n",
    "import pandas as pd\n",
    "import numpy as np\n",
    "import requests\n",
    "import seaborn as sns\n",
    "import matplotlib.pyplot as plt\n",
    "%matplotlib inline\n",
    "plt.style.use('fivethirtyeight')  \n",
    "import warnings\n",
    "warnings.filterwarnings('ignore')"
   ]
  },
  {
   "cell_type": "code",
   "execution_count": 2,
   "id": "c9b0df75",
   "metadata": {},
   "outputs": [],
   "source": [
    "# I got the URLs of the CSV files on GitHub\n",
    "url = 'https://raw.githubusercontent.com/Ustacky-dev/Pandas-Analytics-Project/main/Abuja_Branch.csv'\n",
    "url1 = 'https://raw.githubusercontent.com/Ustacky-dev/Pandas-Analytics-Project/main/Lagos_Branch.csv'\n",
    "url2 = 'https://raw.githubusercontent.com/Ustacky-dev/Pandas-Analytics-Project/main/Port_Harcourt_Branch.csv'\n",
    "\n",
    "# I read the CSV files from the URLs into DataFrames\n",
    "df = pd.read_csv(io.StringIO(requests.get(url).content.decode('utf-8')))\n",
    "df1 = pd.read_csv(io.StringIO(requests.get(url1).content.decode('utf-8')))\n",
    "df2 = pd.read_csv(io.StringIO(requests.get(url2).content.decode('utf-8')))\n",
    "\n",
    "# I concatenated the DataFrames into a single DataFrame\n",
    "combined_df = pd.concat([df, df1, df2], axis=0, ignore_index=True)\n",
    "\n",
    "# Display the resulting DataFrame\n",
    "df3 = combined_df\n"
   ]
  },
  {
   "cell_type": "code",
   "execution_count": 3,
   "id": "16dcd656",
   "metadata": {},
   "outputs": [
    {
     "data": {
      "text/html": [
       "<div>\n",
       "<style scoped>\n",
       "    .dataframe tbody tr th:only-of-type {\n",
       "        vertical-align: middle;\n",
       "    }\n",
       "\n",
       "    .dataframe tbody tr th {\n",
       "        vertical-align: top;\n",
       "    }\n",
       "\n",
       "    .dataframe thead th {\n",
       "        text-align: right;\n",
       "    }\n",
       "</style>\n",
       "<table border=\"1\" class=\"dataframe\">\n",
       "  <thead>\n",
       "    <tr style=\"text-align: right;\">\n",
       "      <th></th>\n",
       "      <th>Invoice ID</th>\n",
       "      <th>Branch</th>\n",
       "      <th>City</th>\n",
       "      <th>Customer type</th>\n",
       "      <th>Gender</th>\n",
       "      <th>Product line</th>\n",
       "      <th>Unit price</th>\n",
       "      <th>Quantity</th>\n",
       "      <th>Tax 5%</th>\n",
       "      <th>Total</th>\n",
       "      <th>Date</th>\n",
       "      <th>Time</th>\n",
       "      <th>Payment</th>\n",
       "      <th>cogs</th>\n",
       "      <th>gross margin percentage</th>\n",
       "      <th>gross income</th>\n",
       "      <th>Rating</th>\n",
       "    </tr>\n",
       "  </thead>\n",
       "  <tbody>\n",
       "    <tr>\n",
       "      <th>995</th>\n",
       "      <td>148-41-7930</td>\n",
       "      <td>C</td>\n",
       "      <td>Port Harcourt</td>\n",
       "      <td>Normal</td>\n",
       "      <td>Male</td>\n",
       "      <td>Health and beauty</td>\n",
       "      <td>35985.6</td>\n",
       "      <td>7</td>\n",
       "      <td>12594.96</td>\n",
       "      <td>264494.16</td>\n",
       "      <td>1/23/2019</td>\n",
       "      <td>10:33</td>\n",
       "      <td>Cash</td>\n",
       "      <td>251899.2</td>\n",
       "      <td>4.761905</td>\n",
       "      <td>12594.96</td>\n",
       "      <td>6.1</td>\n",
       "    </tr>\n",
       "    <tr>\n",
       "      <th>996</th>\n",
       "      <td>189-40-5216</td>\n",
       "      <td>C</td>\n",
       "      <td>Port Harcourt</td>\n",
       "      <td>Normal</td>\n",
       "      <td>Male</td>\n",
       "      <td>Electronic accessories</td>\n",
       "      <td>34693.2</td>\n",
       "      <td>7</td>\n",
       "      <td>12142.62</td>\n",
       "      <td>254995.02</td>\n",
       "      <td>1/9/2019</td>\n",
       "      <td>11:40</td>\n",
       "      <td>Cash</td>\n",
       "      <td>242852.4</td>\n",
       "      <td>4.761905</td>\n",
       "      <td>12142.62</td>\n",
       "      <td>6.0</td>\n",
       "    </tr>\n",
       "    <tr>\n",
       "      <th>997</th>\n",
       "      <td>267-62-7380</td>\n",
       "      <td>C</td>\n",
       "      <td>Port Harcourt</td>\n",
       "      <td>Member</td>\n",
       "      <td>Male</td>\n",
       "      <td>Electronic accessories</td>\n",
       "      <td>29642.4</td>\n",
       "      <td>10</td>\n",
       "      <td>14821.20</td>\n",
       "      <td>311245.20</td>\n",
       "      <td>3/29/2019</td>\n",
       "      <td>19:12</td>\n",
       "      <td>Epay</td>\n",
       "      <td>296424.0</td>\n",
       "      <td>4.761905</td>\n",
       "      <td>14821.20</td>\n",
       "      <td>4.3</td>\n",
       "    </tr>\n",
       "    <tr>\n",
       "      <th>998</th>\n",
       "      <td>652-49-6720</td>\n",
       "      <td>C</td>\n",
       "      <td>Port Harcourt</td>\n",
       "      <td>Member</td>\n",
       "      <td>Female</td>\n",
       "      <td>Electronic accessories</td>\n",
       "      <td>21942.0</td>\n",
       "      <td>1</td>\n",
       "      <td>1097.10</td>\n",
       "      <td>23039.10</td>\n",
       "      <td>2/18/2019</td>\n",
       "      <td>11:40</td>\n",
       "      <td>Epay</td>\n",
       "      <td>21942.0</td>\n",
       "      <td>4.761905</td>\n",
       "      <td>1097.10</td>\n",
       "      <td>5.9</td>\n",
       "    </tr>\n",
       "    <tr>\n",
       "      <th>999</th>\n",
       "      <td>233-67-5758</td>\n",
       "      <td>C</td>\n",
       "      <td>Port Harcourt</td>\n",
       "      <td>Normal</td>\n",
       "      <td>Male</td>\n",
       "      <td>Health and beauty</td>\n",
       "      <td>14526.0</td>\n",
       "      <td>1</td>\n",
       "      <td>726.30</td>\n",
       "      <td>15252.30</td>\n",
       "      <td>1/29/2019</td>\n",
       "      <td>13:46</td>\n",
       "      <td>Epay</td>\n",
       "      <td>14526.0</td>\n",
       "      <td>4.761905</td>\n",
       "      <td>726.30</td>\n",
       "      <td>6.2</td>\n",
       "    </tr>\n",
       "  </tbody>\n",
       "</table>\n",
       "</div>"
      ],
      "text/plain": [
       "      Invoice ID Branch           City Customer type  Gender  \\\n",
       "995  148-41-7930      C  Port Harcourt        Normal    Male   \n",
       "996  189-40-5216      C  Port Harcourt        Normal    Male   \n",
       "997  267-62-7380      C  Port Harcourt        Member    Male   \n",
       "998  652-49-6720      C  Port Harcourt        Member  Female   \n",
       "999  233-67-5758      C  Port Harcourt        Normal    Male   \n",
       "\n",
       "               Product line  Unit price  Quantity    Tax 5%      Total  \\\n",
       "995       Health and beauty     35985.6         7  12594.96  264494.16   \n",
       "996  Electronic accessories     34693.2         7  12142.62  254995.02   \n",
       "997  Electronic accessories     29642.4        10  14821.20  311245.20   \n",
       "998  Electronic accessories     21942.0         1   1097.10   23039.10   \n",
       "999       Health and beauty     14526.0         1    726.30   15252.30   \n",
       "\n",
       "          Date   Time Payment      cogs  gross margin percentage  \\\n",
       "995  1/23/2019  10:33    Cash  251899.2                 4.761905   \n",
       "996   1/9/2019  11:40    Cash  242852.4                 4.761905   \n",
       "997  3/29/2019  19:12    Epay  296424.0                 4.761905   \n",
       "998  2/18/2019  11:40    Epay   21942.0                 4.761905   \n",
       "999  1/29/2019  13:46    Epay   14526.0                 4.761905   \n",
       "\n",
       "     gross income  Rating  \n",
       "995      12594.96     6.1  \n",
       "996      12142.62     6.0  \n",
       "997      14821.20     4.3  \n",
       "998       1097.10     5.9  \n",
       "999        726.30     6.2  "
      ]
     },
     "execution_count": 3,
     "metadata": {},
     "output_type": "execute_result"
    }
   ],
   "source": [
    "df3.tail(5)"
   ]
  },
  {
   "cell_type": "code",
   "execution_count": 4,
   "id": "f5cfe21c",
   "metadata": {},
   "outputs": [
    {
     "name": "stdout",
     "output_type": "stream",
     "text": [
      "The data has 1000 rows and 17 columns.\n"
     ]
    }
   ],
   "source": [
    "# To get the shape of the DataFrame\n",
    "shape = df3.shape\n",
    "\n",
    "# To get the number of rows and columns\n",
    "num_rows = shape[0]\n",
    "num_columns = shape[1]\n",
    "\n",
    "# To print the results\n",
    "print(f'The data has {num_rows} rows and {num_columns} columns.')\n"
   ]
  },
  {
   "cell_type": "code",
   "execution_count": 5,
   "id": "5d5fc4ae",
   "metadata": {},
   "outputs": [
    {
     "name": "stdout",
     "output_type": "stream",
     "text": [
      "Column names:\n",
      "Invoice ID\n",
      "Branch\n",
      "City\n",
      "Customer type\n",
      "Gender\n",
      "Product line\n",
      "Unit price\n",
      "Quantity\n",
      "Tax 5%\n",
      "Total\n",
      "Date\n",
      "Time\n",
      "Payment\n",
      "cogs\n",
      "gross margin percentage\n",
      "gross income\n",
      "Rating\n"
     ]
    }
   ],
   "source": [
    "# To get the column names\n",
    "column_names = df3.columns\n",
    "\n",
    "# Print the column names\n",
    "print('Column names:')\n",
    "for name in column_names:\n",
    "    print(name)"
   ]
  },
  {
   "cell_type": "code",
   "execution_count": 6,
   "id": "d3e77956",
   "metadata": {},
   "outputs": [
    {
     "name": "stdout",
     "output_type": "stream",
     "text": [
      "         Unit price     Quantity        Tax 5%          Total           cogs  \\\n",
      "count   1000.000000  1000.000000   1000.000000    1000.000000    1000.000000   \n",
      "mean   20041.966800     5.510000   5536.572840  116268.029640  110731.456800   \n",
      "std     9538.066205     2.923431   4215.177173   88518.720636   84303.543463   \n",
      "min     3628.800000     1.000000    183.060000    3844.260000    3661.200000   \n",
      "25%    11835.000000     3.000000   2132.955000   44792.055000   42659.100000   \n",
      "50%    19882.800000     5.000000   4351.680000   91385.280000   87033.600000   \n",
      "75%    28056.600000     8.000000   8080.290000  169686.090000  161605.800000   \n",
      "max    35985.600000    10.000000  17874.000000  375354.000000  357480.000000   \n",
      "\n",
      "       gross margin percentage  gross income      Rating  \n",
      "count             1.000000e+03   1000.000000  1000.00000  \n",
      "mean              4.761905e+00   5536.572840     6.97270  \n",
      "std               6.131498e-14   4215.177173     1.71858  \n",
      "min               4.761905e+00    183.060000     4.00000  \n",
      "25%               4.761905e+00   2132.955000     5.50000  \n",
      "50%               4.761905e+00   4351.680000     7.00000  \n",
      "75%               4.761905e+00   8080.290000     8.50000  \n",
      "max               4.761905e+00  17874.000000    10.00000  \n"
     ]
    }
   ],
   "source": [
    "# Generate a statistical summary of the data\n",
    "summary = df3.describe()\n",
    "\n",
    "# Print the summary\n",
    "print(summary)"
   ]
  },
  {
   "cell_type": "code",
   "execution_count": 7,
   "id": "fae07117",
   "metadata": {},
   "outputs": [
    {
     "data": {
      "text/html": [
       "<div>\n",
       "<style scoped>\n",
       "    .dataframe tbody tr th:only-of-type {\n",
       "        vertical-align: middle;\n",
       "    }\n",
       "\n",
       "    .dataframe tbody tr th {\n",
       "        vertical-align: top;\n",
       "    }\n",
       "\n",
       "    .dataframe thead th {\n",
       "        text-align: right;\n",
       "    }\n",
       "</style>\n",
       "<table border=\"1\" class=\"dataframe\">\n",
       "  <thead>\n",
       "    <tr style=\"text-align: right;\">\n",
       "      <th></th>\n",
       "      <th>Unit price</th>\n",
       "      <th>Quantity</th>\n",
       "      <th>Tax 5%</th>\n",
       "      <th>Total</th>\n",
       "      <th>cogs</th>\n",
       "      <th>gross margin percentage</th>\n",
       "      <th>gross income</th>\n",
       "      <th>Rating</th>\n",
       "    </tr>\n",
       "  </thead>\n",
       "  <tbody>\n",
       "    <tr>\n",
       "      <th>count</th>\n",
       "      <td>1000.000000</td>\n",
       "      <td>1000.000000</td>\n",
       "      <td>1000.000000</td>\n",
       "      <td>1000.000000</td>\n",
       "      <td>1000.000000</td>\n",
       "      <td>1.000000e+03</td>\n",
       "      <td>1000.000000</td>\n",
       "      <td>1000.00000</td>\n",
       "    </tr>\n",
       "    <tr>\n",
       "      <th>mean</th>\n",
       "      <td>20041.966800</td>\n",
       "      <td>5.510000</td>\n",
       "      <td>5536.572840</td>\n",
       "      <td>116268.029640</td>\n",
       "      <td>110731.456800</td>\n",
       "      <td>4.761905e+00</td>\n",
       "      <td>5536.572840</td>\n",
       "      <td>6.97270</td>\n",
       "    </tr>\n",
       "    <tr>\n",
       "      <th>std</th>\n",
       "      <td>9538.066205</td>\n",
       "      <td>2.923431</td>\n",
       "      <td>4215.177173</td>\n",
       "      <td>88518.720636</td>\n",
       "      <td>84303.543463</td>\n",
       "      <td>6.131498e-14</td>\n",
       "      <td>4215.177173</td>\n",
       "      <td>1.71858</td>\n",
       "    </tr>\n",
       "    <tr>\n",
       "      <th>min</th>\n",
       "      <td>3628.800000</td>\n",
       "      <td>1.000000</td>\n",
       "      <td>183.060000</td>\n",
       "      <td>3844.260000</td>\n",
       "      <td>3661.200000</td>\n",
       "      <td>4.761905e+00</td>\n",
       "      <td>183.060000</td>\n",
       "      <td>4.00000</td>\n",
       "    </tr>\n",
       "    <tr>\n",
       "      <th>25%</th>\n",
       "      <td>11835.000000</td>\n",
       "      <td>3.000000</td>\n",
       "      <td>2132.955000</td>\n",
       "      <td>44792.055000</td>\n",
       "      <td>42659.100000</td>\n",
       "      <td>4.761905e+00</td>\n",
       "      <td>2132.955000</td>\n",
       "      <td>5.50000</td>\n",
       "    </tr>\n",
       "    <tr>\n",
       "      <th>50%</th>\n",
       "      <td>19882.800000</td>\n",
       "      <td>5.000000</td>\n",
       "      <td>4351.680000</td>\n",
       "      <td>91385.280000</td>\n",
       "      <td>87033.600000</td>\n",
       "      <td>4.761905e+00</td>\n",
       "      <td>4351.680000</td>\n",
       "      <td>7.00000</td>\n",
       "    </tr>\n",
       "    <tr>\n",
       "      <th>75%</th>\n",
       "      <td>28056.600000</td>\n",
       "      <td>8.000000</td>\n",
       "      <td>8080.290000</td>\n",
       "      <td>169686.090000</td>\n",
       "      <td>161605.800000</td>\n",
       "      <td>4.761905e+00</td>\n",
       "      <td>8080.290000</td>\n",
       "      <td>8.50000</td>\n",
       "    </tr>\n",
       "    <tr>\n",
       "      <th>max</th>\n",
       "      <td>35985.600000</td>\n",
       "      <td>10.000000</td>\n",
       "      <td>17874.000000</td>\n",
       "      <td>375354.000000</td>\n",
       "      <td>357480.000000</td>\n",
       "      <td>4.761905e+00</td>\n",
       "      <td>17874.000000</td>\n",
       "      <td>10.00000</td>\n",
       "    </tr>\n",
       "  </tbody>\n",
       "</table>\n",
       "</div>"
      ],
      "text/plain": [
       "         Unit price     Quantity        Tax 5%          Total           cogs  \\\n",
       "count   1000.000000  1000.000000   1000.000000    1000.000000    1000.000000   \n",
       "mean   20041.966800     5.510000   5536.572840  116268.029640  110731.456800   \n",
       "std     9538.066205     2.923431   4215.177173   88518.720636   84303.543463   \n",
       "min     3628.800000     1.000000    183.060000    3844.260000    3661.200000   \n",
       "25%    11835.000000     3.000000   2132.955000   44792.055000   42659.100000   \n",
       "50%    19882.800000     5.000000   4351.680000   91385.280000   87033.600000   \n",
       "75%    28056.600000     8.000000   8080.290000  169686.090000  161605.800000   \n",
       "max    35985.600000    10.000000  17874.000000  375354.000000  357480.000000   \n",
       "\n",
       "       gross margin percentage  gross income      Rating  \n",
       "count             1.000000e+03   1000.000000  1000.00000  \n",
       "mean              4.761905e+00   5536.572840     6.97270  \n",
       "std               6.131498e-14   4215.177173     1.71858  \n",
       "min               4.761905e+00    183.060000     4.00000  \n",
       "25%               4.761905e+00   2132.955000     5.50000  \n",
       "50%               4.761905e+00   4351.680000     7.00000  \n",
       "75%               4.761905e+00   8080.290000     8.50000  \n",
       "max               4.761905e+00  17874.000000    10.00000  "
      ]
     },
     "execution_count": 7,
     "metadata": {},
     "output_type": "execute_result"
    }
   ],
   "source": [
    "df3.describe()"
   ]
  },
  {
   "cell_type": "markdown",
   "id": "a6bfbeef",
   "metadata": {},
   "source": [
    "# From the above there are few things to notice on the data analyzed.\n",
    "\n",
    "1. The Standard Deviation for the unit prices show that there is a huge disparity between the lowest priced items and the expensive ones. It also shows that a greater quantity of the low priced items were sold.\n",
    "2. The ratings are closely clustered around the mean."
   ]
  },
  {
   "cell_type": "code",
   "execution_count": 8,
   "id": "cf87a2b0",
   "metadata": {},
   "outputs": [
    {
     "data": {
      "text/plain": [
       "<AxesSubplot:>"
      ]
     },
     "execution_count": 8,
     "metadata": {},
     "output_type": "execute_result"
    },
    {
     "data": {
      "image/png": "[encoded data removed]",
      "text/plain": [
       "<Figure size 432x288 with 1 Axes>"
      ]
     },
     "metadata": {},
     "output_type": "display_data"
    }
   ],
   "source": [
    "summary.plot.bar()"
   ]
  },
  {
   "cell_type": "code",
   "execution_count": 9,
   "id": "25e5b9a7",
   "metadata": {},
   "outputs": [
    {
     "data": {
      "image/png": "[encoded data removed]",
      "text/plain": [
       "<Figure size 1440x720 with 8 Axes>"
      ]
     },
     "metadata": {},
     "output_type": "display_data"
    }
   ],
   "source": [
    "# Create a pie chart from the summary\n",
    "summary.plot.pie(subplots=True, figsize=(20, 10))\n",
    "\n",
    "# Show the plot\n",
    "plt.show()"
   ]
  },
  {
   "cell_type": "code",
   "execution_count": 10,
   "id": "1f949ca8",
   "metadata": {},
   "outputs": [
    {
     "name": "stdout",
     "output_type": "stream",
     "text": [
      "                         Total Missing  Percent Missing\n",
      "Invoice ID                           0              0.0\n",
      "Total                                0              0.0\n",
      "gross income                         0              0.0\n",
      "gross margin percentage              0              0.0\n",
      "cogs                                 0              0.0\n",
      "Payment                              0              0.0\n",
      "Time                                 0              0.0\n",
      "Date                                 0              0.0\n",
      "Tax 5%                               0              0.0\n",
      "Branch                               0              0.0\n",
      "Quantity                             0              0.0\n",
      "Unit price                           0              0.0\n",
      "Product line                         0              0.0\n",
      "Gender                               0              0.0\n",
      "Customer type                        0              0.0\n",
      "City                                 0              0.0\n",
      "Rating                               0              0.0\n"
     ]
    }
   ],
   "source": [
    "\n",
    "# def missing_data_summary(df3):\n",
    "\n",
    "# Calculate the total missing values in each column\n",
    "total_missing = df3.isnull().sum()\n",
    "\n",
    "# Calculate the percentage of missing values in each column\n",
    "percent_missing = (df3.isnull().sum() / len(df3)) * 100\n",
    "\n",
    "# Create a summary dataframe\n",
    "summary_df3 = pd.DataFrame({'Total Missing': total_missing, 'Percent Missing': percent_missing})\n",
    "\n",
    "# Sort the summary dataframe by the total missing values in descending order\n",
    "summary_df3 = summary_df3.sort_values(by='Total Missing', ascending=False)\n",
    "\n",
    "# Print the summary dataframe\n",
    "print(summary_df3)"
   ]
  },
  {
   "cell_type": "code",
   "execution_count": 11,
   "id": "7531bd71",
   "metadata": {},
   "outputs": [
    {
     "name": "stdout",
     "output_type": "stream",
     "text": [
      "<class 'pandas.core.frame.DataFrame'>\n",
      "RangeIndex: 1000 entries, 0 to 999\n",
      "Data columns (total 17 columns):\n",
      " #   Column                   Non-Null Count  Dtype  \n",
      "---  ------                   --------------  -----  \n",
      " 0   Invoice ID               1000 non-null   object \n",
      " 1   Branch                   1000 non-null   object \n",
      " 2   City                     1000 non-null   object \n",
      " 3   Customer type            1000 non-null   object \n",
      " 4   Gender                   1000 non-null   object \n",
      " 5   Product line             1000 non-null   object \n",
      " 6   Unit price               1000 non-null   float64\n",
      " 7   Quantity                 1000 non-null   int64  \n",
      " 8   Tax 5%                   1000 non-null   float64\n",
      " 9   Total                    1000 non-null   float64\n",
      " 10  Date                     1000 non-null   object \n",
      " 11  Time                     1000 non-null   object \n",
      " 12  Payment                  1000 non-null   object \n",
      " 13  cogs                     1000 non-null   float64\n",
      " 14  gross margin percentage  1000 non-null   float64\n",
      " 15  gross income             1000 non-null   float64\n",
      " 16  Rating                   1000 non-null   float64\n",
      "dtypes: float64(7), int64(1), object(9)\n",
      "memory usage: 132.9+ KB\n"
     ]
    }
   ],
   "source": [
    "df3.info()"
   ]
  },
  {
   "cell_type": "code",
   "execution_count": 12,
   "id": "df29e515",
   "metadata": {
    "scrolled": true
   },
   "outputs": [
    {
     "name": "stdout",
     "output_type": "stream",
     "text": [
      "      Invoice ID Branch           City Customer type  Gender  \\\n",
      "0    692-92-5582      B          Abuja        Member  Female   \n",
      "1    351-62-0822      B          Abuja        Member  Female   \n",
      "2    529-56-3974      B          Abuja        Member    Male   \n",
      "3    299-46-1805      B          Abuja        Member  Female   \n",
      "4    319-50-3348      B          Abuja        Normal  Female   \n",
      "..           ...    ...            ...           ...     ...   \n",
      "995  148-41-7930      C  Port Harcourt        Normal    Male   \n",
      "996  189-40-5216      C  Port Harcourt        Normal    Male   \n",
      "997  267-62-7380      C  Port Harcourt        Member    Male   \n",
      "998  652-49-6720      C  Port Harcourt        Member  Female   \n",
      "999  233-67-5758      C  Port Harcourt        Normal    Male   \n",
      "\n",
      "               Product line  Unit price  Quantity    Tax 5%      Total  \\\n",
      "0        Food and beverages     19742.4         3   2961.36   62188.56   \n",
      "1       Fashion accessories      5212.8         4   1042.56   21893.76   \n",
      "2    Electronic accessories      9183.6         4   1836.72   38571.12   \n",
      "3         Sports and travel     33739.2         6  10121.76  212556.96   \n",
      "4        Home and lifestyle     14508.0         2   1450.80   30466.80   \n",
      "..                      ...         ...       ...       ...        ...   \n",
      "995       Health and beauty     35985.6         7  12594.96  264494.16   \n",
      "996  Electronic accessories     34693.2         7  12142.62  254995.02   \n",
      "997  Electronic accessories     29642.4        10  14821.20  311245.20   \n",
      "998  Electronic accessories     21942.0         1   1097.10   23039.10   \n",
      "999       Health and beauty     14526.0         1    726.30   15252.30   \n",
      "\n",
      "          Date   Time Payment      cogs  gross margin percentage  \\\n",
      "0   2019-02-20  13:27    Card   59227.2                 4.761905   \n",
      "1   2019-02-06  18:07    Epay   20851.2                 4.761905   \n",
      "2   2019-03-09  17:03    Cash   36734.4                 4.761905   \n",
      "3   2019-01-15  16:19    Cash  202435.2                 4.761905   \n",
      "4   2019-03-11  15:30    Epay   29016.0                 4.761905   \n",
      "..         ...    ...     ...       ...                      ...   \n",
      "995 2019-01-23  10:33    Cash  251899.2                 4.761905   \n",
      "996 2019-01-09  11:40    Cash  242852.4                 4.761905   \n",
      "997 2019-03-29  19:12    Epay  296424.0                 4.761905   \n",
      "998 2019-02-18  11:40    Epay   21942.0                 4.761905   \n",
      "999 2019-01-29  13:46    Epay   14526.0                 4.761905   \n",
      "\n",
      "     gross income  Rating  \n",
      "0         2961.36     5.9  \n",
      "1         1042.56     4.5  \n",
      "2         1836.72     6.8  \n",
      "3        10121.76     4.5  \n",
      "4         1450.80     4.4  \n",
      "..            ...     ...  \n",
      "995      12594.96     6.1  \n",
      "996      12142.62     6.0  \n",
      "997      14821.20     4.3  \n",
      "998       1097.10     5.9  \n",
      "999        726.30     6.2  \n",
      "\n",
      "[1000 rows x 17 columns]\n"
     ]
    }
   ],
   "source": [
    "# Convert the date column to a datetime object\n",
    "df3['Date'] = pd.to_datetime(df3['Date'])\n",
    "\n",
    "# Display the result\n",
    "print(df3)"
   ]
  },
  {
   "cell_type": "code",
   "execution_count": 13,
   "id": "72dbbcbf",
   "metadata": {},
   "outputs": [],
   "source": [
    "df3['Datetime'] = pd.to_datetime(df3['Date'].astype(str) + ' ' + df3['Time'].astype(str))"
   ]
  },
  {
   "cell_type": "code",
   "execution_count": 14,
   "id": "58d35262",
   "metadata": {},
   "outputs": [
    {
     "data": {
      "text/html": [
       "<div>\n",
       "<style scoped>\n",
       "    .dataframe tbody tr th:only-of-type {\n",
       "        vertical-align: middle;\n",
       "    }\n",
       "\n",
       "    .dataframe tbody tr th {\n",
       "        vertical-align: top;\n",
       "    }\n",
       "\n",
       "    .dataframe thead th {\n",
       "        text-align: right;\n",
       "    }\n",
       "</style>\n",
       "<table border=\"1\" class=\"dataframe\">\n",
       "  <thead>\n",
       "    <tr style=\"text-align: right;\">\n",
       "      <th></th>\n",
       "      <th>Invoice ID</th>\n",
       "      <th>Branch</th>\n",
       "      <th>City</th>\n",
       "      <th>Customer type</th>\n",
       "      <th>Gender</th>\n",
       "      <th>Product line</th>\n",
       "      <th>Unit price</th>\n",
       "      <th>Quantity</th>\n",
       "      <th>Tax 5%</th>\n",
       "      <th>Total</th>\n",
       "      <th>Date</th>\n",
       "      <th>Time</th>\n",
       "      <th>Payment</th>\n",
       "      <th>cogs</th>\n",
       "      <th>gross margin percentage</th>\n",
       "      <th>gross income</th>\n",
       "      <th>Rating</th>\n",
       "      <th>Datetime</th>\n",
       "    </tr>\n",
       "  </thead>\n",
       "  <tbody>\n",
       "    <tr>\n",
       "      <th>0</th>\n",
       "      <td>692-92-5582</td>\n",
       "      <td>B</td>\n",
       "      <td>Abuja</td>\n",
       "      <td>Member</td>\n",
       "      <td>Female</td>\n",
       "      <td>Food and beverages</td>\n",
       "      <td>19742.4</td>\n",
       "      <td>3</td>\n",
       "      <td>2961.36</td>\n",
       "      <td>62188.56</td>\n",
       "      <td>2019-02-20</td>\n",
       "      <td>13:27</td>\n",
       "      <td>Card</td>\n",
       "      <td>59227.2</td>\n",
       "      <td>4.761905</td>\n",
       "      <td>2961.36</td>\n",
       "      <td>5.9</td>\n",
       "      <td>2019-02-20 13:27:00</td>\n",
       "    </tr>\n",
       "    <tr>\n",
       "      <th>1</th>\n",
       "      <td>351-62-0822</td>\n",
       "      <td>B</td>\n",
       "      <td>Abuja</td>\n",
       "      <td>Member</td>\n",
       "      <td>Female</td>\n",
       "      <td>Fashion accessories</td>\n",
       "      <td>5212.8</td>\n",
       "      <td>4</td>\n",
       "      <td>1042.56</td>\n",
       "      <td>21893.76</td>\n",
       "      <td>2019-02-06</td>\n",
       "      <td>18:07</td>\n",
       "      <td>Epay</td>\n",
       "      <td>20851.2</td>\n",
       "      <td>4.761905</td>\n",
       "      <td>1042.56</td>\n",
       "      <td>4.5</td>\n",
       "      <td>2019-02-06 18:07:00</td>\n",
       "    </tr>\n",
       "  </tbody>\n",
       "</table>\n",
       "</div>"
      ],
      "text/plain": [
       "    Invoice ID Branch   City Customer type  Gender         Product line  \\\n",
       "0  692-92-5582      B  Abuja        Member  Female   Food and beverages   \n",
       "1  351-62-0822      B  Abuja        Member  Female  Fashion accessories   \n",
       "\n",
       "   Unit price  Quantity   Tax 5%     Total       Date   Time Payment     cogs  \\\n",
       "0     19742.4         3  2961.36  62188.56 2019-02-20  13:27    Card  59227.2   \n",
       "1      5212.8         4  1042.56  21893.76 2019-02-06  18:07    Epay  20851.2   \n",
       "\n",
       "   gross margin percentage  gross income  Rating            Datetime  \n",
       "0                 4.761905       2961.36     5.9 2019-02-20 13:27:00  \n",
       "1                 4.761905       1042.56     4.5 2019-02-06 18:07:00  "
      ]
     },
     "execution_count": 14,
     "metadata": {},
     "output_type": "execute_result"
    }
   ],
   "source": [
    "df3.head(2)"
   ]
  },
  {
   "cell_type": "code",
   "execution_count": 15,
   "id": "deaf39f5",
   "metadata": {},
   "outputs": [],
   "source": [
    "df3['Day'] = pd.to_datetime(df3['Date']).dt.day"
   ]
  },
  {
   "cell_type": "code",
   "execution_count": 16,
   "id": "523897e0",
   "metadata": {},
   "outputs": [],
   "source": [
    "df3['Month'] = pd.to_datetime(df3['Date']).dt.month"
   ]
  },
  {
   "cell_type": "code",
   "execution_count": 17,
   "id": "07c0d679",
   "metadata": {},
   "outputs": [],
   "source": [
    "df3['Year'] = pd.to_datetime(df3['Date']).dt.year"
   ]
  },
  {
   "cell_type": "code",
   "execution_count": 18,
   "id": "d5136726",
   "metadata": {},
   "outputs": [],
   "source": [
    "df3['Hour'] = pd.to_datetime(df3['Date']).dt.hour"
   ]
  },
  {
   "cell_type": "code",
   "execution_count": 19,
   "id": "22d522e4",
   "metadata": {},
   "outputs": [
    {
     "name": "stdout",
     "output_type": "stream",
     "text": [
      "Number of unique hours: 11\n",
      "Unique hours: [13 18 17 16 15 10 12 19 14 11 20]\n"
     ]
    }
   ],
   "source": [
    "df3['Hour'] = pd.to_datetime(df3['Datetime']).dt.hour\n",
    "\n",
    "# Getting the number of unique hours\n",
    "num_unique_hours = df3['Hour'].nunique()\n",
    "\n",
    "# Getting an array of the unique hours\n",
    "unique_hours_array = df3['Hour'].unique()\n",
    "\n",
    "# Printing the results\n",
    "print('Number of unique hours:', num_unique_hours)\n",
    "print('Unique hours:', unique_hours_array)"
   ]
  },
  {
   "cell_type": "code",
   "execution_count": 20,
   "id": "d23ad156",
   "metadata": {},
   "outputs": [
    {
     "name": "stdout",
     "output_type": "stream",
     "text": [
      "['13:27' '18:07' '17:03' '16:19' '15:30' '10:40' '12:20' '15:31' '19:48'\n",
      " '19:39' '12:43' '14:49' '13:01' '18:45' '13:03' '18:00' '17:24' '15:47'\n",
      " '12:45' '14:42' '11:49' '13:40' '14:35' '15:01' '18:17' '19:56' '17:55'\n",
      " '12:09' '10:25' '18:14' '18:19' '11:32' '12:44' '12:29' '15:26' '20:38'\n",
      " '17:26' '14:57' '11:15' '13:18' '18:36' '14:40' '12:21' '15:07' '19:20'\n",
      " '19:40' '13:58' '14:43' '19:18' '15:24' '14:12' '17:34' '12:04' '19:46'\n",
      " '19:00' '10:53' '10:39' '13:41' '20:23' '11:57' '14:51' '12:42' '19:42'\n",
      " '19:17' '13:24' '15:53' '18:27' '12:58' '18:59' '13:44' '13:46' '19:14'\n",
      " '10:52' '19:28' '13:52' '10:54' '18:31' '19:26' '18:42' '19:43' '19:06'\n",
      " '15:34' '19:22' '19:24' '20:55' '18:13' '16:52' '20:52' '18:01' '13:30'\n",
      " '17:37' '11:46' '16:46' '14:04' '19:53' '10:11' '18:48' '13:02' '18:23'\n",
      " '20:21' '11:06' '19:02' '14:16' '15:40' '16:58' '19:50' '13:32' '13:19'\n",
      " '10:26' '16:28' '10:43' '19:01' '13:00' '14:29' '17:13' '13:53' '17:27'\n",
      " '14:36' '19:35' '17:58' '20:07' '11:02' '19:07' '18:50' '16:59' '14:15'\n",
      " '20:24' '12:25' '18:33' '15:25' '13:21' '11:48' '14:14' '17:36' '17:53'\n",
      " '16:36' '12:50' '10:48' '14:28' '18:03' '16:48' '10:34' '20:03' '14:55'\n",
      " '11:28' '12:14' '20:40' '17:45' '20:31' '10:49' '12:34' '13:45' '19:38'\n",
      " '12:32' '10:33' '17:16' '19:55' '19:49' '18:43' '12:15' '15:58' '13:05'\n",
      " '11:30' '13:54' '10:37' '11:45' '19:51' '15:27' '11:25' '15:42' '16:04'\n",
      " '14:41' '11:29' '20:00' '15:08' '18:22' '11:52' '18:04' '13:06' '20:43'\n",
      " '10:01' '16:34' '13:10' '19:57' '19:29' '11:59' '19:11' '18:57' '11:18'\n",
      " '12:40' '14:06' '20:48' '15:04' '20:42' '18:53' '17:49' '10:38' '11:16'\n",
      " '15:05' '15:28' '15:12' '13:59' '18:51' '11:58' '18:08' '13:07' '20:32'\n",
      " '13:48' '16:26' '10:50' '16:45' '11:12' '14:38' '16:32' '11:36' '18:37'\n",
      " '11:01' '20:08' '17:38' '19:31' '13:51' '11:55' '11:42' '14:48' '11:51'\n",
      " '20:19' '10:17' '14:25' '15:18' '15:06' '20:57' '15:16' '17:47' '12:02'\n",
      " '14:08' '10:44' '20:29' '11:26' '12:36' '10:58' '11:10' '20:51' '13:33'\n",
      " '20:13' '14:26' '13:22' '15:55' '18:18' '19:44' '15:17' '15:10' '18:10'\n",
      " '19:30' '19:08' '15:46' '18:35' '13:08' '13:23' '20:33' '17:15' '19:21'\n",
      " '11:03' '12:17' '15:36' '10:12' '19:15' '17:17' '12:27' '16:40' '10:04'\n",
      " '10:55' '15:48' '20:35' '16:57' '16:42' '10:16' '16:44' '14:50' '18:44'\n",
      " '13:26' '20:34' '20:59' '15:39' '19:25' '16:37' '12:28' '11:56' '16:21'\n",
      " '16:20' '16:31' '17:01' '19:16' '11:19' '10:13' '16:55' '15:56' '12:55'\n",
      " '18:24' '18:09' '11:20' '16:49' '12:01' '14:47' '16:11' '11:22' '11:23'\n",
      " '10:46' '12:38' '13:25' '11:00' '16:05' '13:34' '11:44' '15:51' '11:09'\n",
      " '15:02' '14:21' '10:00' '15:54' '20:14' '17:09' '17:43' '10:08' '13:12'\n",
      " '12:48' '19:09' '15:59' '11:21' '15:49' '16:10' '17:44' '10:29' '12:46'\n",
      " '16:47' '12:52' '10:36' '20:36' '18:55' '19:36' '10:23' '15:37' '15:09'\n",
      " '13:47' '11:40' '17:04' '18:20' '20:54' '17:29' '18:05' '12:07' '13:55'\n",
      " '16:03' '19:41' '13:28' '16:23' '12:08' '10:28' '16:54' '14:33' '19:54'\n",
      " '14:03' '16:38' '12:23' '14:13' '14:22' '12:56' '10:18' '12:24' '12:37'\n",
      " '14:19' '17:46' '15:44' '10:22' '18:30' '13:57' '12:22' '17:59' '19:45'\n",
      " '20:26' '20:18' '16:06' '12:47' '19:33' '11:39' '15:29' '10:31' '12:30'\n",
      " '15:19' '17:48' '11:07' '16:09' '15:15' '20:06' '11:27' '18:41' '17:12'\n",
      " '18:06' '14:00' '10:57' '10:10' '10:05' '18:15' '15:21' '16:16' '13:11'\n",
      " '11:05' '12:35' '14:30' '13:35' '16:08' '13:37' '10:03' '13:14' '17:35'\n",
      " '16:30' '10:09' '17:54' '16:27' '14:53' '15:23' '18:02' '20:46' '15:33'\n",
      " '11:38' '11:24' '10:42' '20:39' '19:47' '17:08' '10:19' '15:43' '18:21'\n",
      " '14:20' '16:24' '18:56' '14:31' '20:05' '10:41' '19:52' '16:17' '15:57'\n",
      " '16:43' '17:11' '16:07' '15:00' '20:50' '19:58' '10:02' '17:07' '17:22'\n",
      " '13:29' '17:20' '13:42' '14:44' '10:21' '19:05' '11:34' '18:58' '20:01'\n",
      " '20:37' '12:12' '15:32' '12:31' '20:04' '13:38' '17:30' '16:53' '16:51'\n",
      " '20:15' '14:11' '12:10' '20:47' '11:17' '15:52' '11:43' '10:30' '10:06'\n",
      " '12:16' '14:58' '14:45' '17:10' '14:27' '12:51' '13:56' '16:18' '15:14'\n",
      " '20:10' '14:24' '12:39' '12:41' '15:20' '16:33' '20:44' '20:30' '16:50'\n",
      " '17:52' '11:33' '18:38' '15:11' '15:45' '16:35' '13:50' '17:56' '13:49'\n",
      " '14:05' '19:12']\n"
     ]
    }
   ],
   "source": [
    "# Get the unique sales hours\n",
    "unique_hours = df3['Time'].unique()\n",
    "\n",
    "# Print the result\n",
    "print(unique_hours)"
   ]
  },
  {
   "cell_type": "code",
   "execution_count": 21,
   "id": "e62fa7b6",
   "metadata": {},
   "outputs": [
    {
     "data": {
      "image/png": "[encoded data removed]",
      "text/plain": [
       "<Figure size 432x288 with 1 Axes>"
      ]
     },
     "metadata": {},
     "output_type": "display_data"
    }
   ],
   "source": [
    "# Create a bar chart\n",
    "plt.bar(range(len(unique_hours)), unique_hours)\n",
    "\n",
    "# Set the x-axis tick labels to the unique values\n",
    "plt.xticks(range(len(unique_hours)), unique_hours)\n",
    "\n",
    "# Add labels and title\n",
    "plt.xlabel('Index')\n",
    "plt.ylabel('Time')\n",
    "plt.title('Unique Time Values')\n",
    "\n",
    "# Show the chart\n",
    "plt.show()"
   ]
  },
  {
   "cell_type": "code",
   "execution_count": 22,
   "id": "e7262e3b",
   "metadata": {},
   "outputs": [
    {
     "name": "stdout",
     "output_type": "stream",
     "text": [
      "[4.76190476]\n",
      "Epay    345\n",
      "Cash    344\n",
      "Card    311\n",
      "Name: Payment, dtype: int64\n"
     ]
    }
   ],
   "source": [
    "unique_values = df3['gross margin percentage'].unique()\n",
    "print(unique_values)\n",
    "value_counts = df3['Payment'].value_counts()\n",
    "print(value_counts)"
   ]
  },
  {
   "cell_type": "code",
   "execution_count": 23,
   "id": "59eece00",
   "metadata": {},
   "outputs": [
    {
     "data": {
      "text/plain": [
       "['Card', 'Epay', 'Cash']"
      ]
     },
     "execution_count": 23,
     "metadata": {},
     "output_type": "execute_result"
    }
   ],
   "source": [
    "#Example - Uncomment the Code and Run it\n",
    "df3['Payment'].unique().tolist()"
   ]
  },
  {
   "cell_type": "code",
   "execution_count": 24,
   "id": "bbdb971e",
   "metadata": {},
   "outputs": [
    {
     "data": {
      "image/png": "[encoded data removed]",
      "text/plain": [
       "<Figure size 432x288 with 1 Axes>"
      ]
     },
     "metadata": {},
     "output_type": "display_data"
    },
    {
     "data": {
      "image/png": "[encoded data removed]",
      "text/plain": [
       "<Figure size 432x288 with 1 Axes>"
      ]
     },
     "metadata": {},
     "output_type": "display_data"
    }
   ],
   "source": [
    "# Create a countplot of the 'Payment' column\n",
    "sns.countplot(x='Payment', data=df3)\n",
    "plt.title('Most Used Payment Method')\n",
    "plt.show()\n",
    "\n",
    "# Create a countplot of the 'City' column\n",
    "sns.countplot(x='City', data=df3)\n",
    "plt.title('City with Most Sales')\n",
    "plt.show()"
   ]
  },
  {
   "cell_type": "code",
   "execution_count": 25,
   "id": "e7b5b51e",
   "metadata": {},
   "outputs": [
    {
     "data": {
      "image/png": "[encoded data removed]",
      "text/plain": [
       "<Figure size 432x288 with 1 Axes>"
      ]
     },
     "metadata": {},
     "output_type": "display_data"
    }
   ],
   "source": [
    "# Creating a count plot\n",
    "ax = sns.countplot(x='Payment', data=df3)\n",
    "\n",
    "# Adding a title to the plot\n",
    "ax.set_title('Most Used Payment Method')\n",
    "\n",
    "# Displaying the plot\n",
    "plt.show()\n"
   ]
  },
  {
   "cell_type": "code",
   "execution_count": 26,
   "id": "ed532ac8",
   "metadata": {},
   "outputs": [
    {
     "name": "stdout",
     "output_type": "stream",
     "text": [
      "['Member' 'Normal']\n"
     ]
    }
   ],
   "source": [
    "# Get the unique values in the 'Category' column\n",
    "unique_values = df3['Customer type'].unique()\n",
    "\n",
    "# Print the result\n",
    "print(unique_values)"
   ]
  },
  {
   "cell_type": "code",
   "execution_count": 27,
   "id": "1aafc47b",
   "metadata": {},
   "outputs": [
    {
     "name": "stdout",
     "output_type": "stream",
     "text": [
      "Member    501\n",
      "Normal    499\n",
      "Name: Customer type, dtype: int64\n"
     ]
    }
   ],
   "source": [
    "# Get the counts of unique values in the 'Category' column\n",
    "value_counts = df3['Customer type'].value_counts()\n",
    "\n",
    "# Print the result\n",
    "print(value_counts)"
   ]
  },
  {
   "cell_type": "code",
   "execution_count": 28,
   "id": "3c13c95c",
   "metadata": {},
   "outputs": [
    {
     "name": "stdout",
     "output_type": "stream",
     "text": [
      "['Invoice ID', 'Branch', 'City', 'Customer type', 'Gender', 'Product line', 'Time', 'Payment']\n"
     ]
    }
   ],
   "source": [
    "#Uncomment the code and Run it\n",
    "categorical_columns = [col for col in df3.columns if df3[col].dtype == \"object\" ]\n",
    "print(categorical_columns)"
   ]
  },
  {
   "cell_type": "code",
   "execution_count": 29,
   "id": "f9eb8db9",
   "metadata": {},
   "outputs": [
    {
     "name": "stdout",
     "output_type": "stream",
     "text": [
      "                                      Unit price  Quantity     Tax 5%  \\\n",
      "Product line           City                                             \n",
      "Home and lifestyle     Lagos           1306789.2       371  384294.78   \n",
      "Food and beverages     Port Harcourt   1360807.2       369  407431.80   \n",
      "Fashion accessories    Port Harcourt   1397822.4       342  369601.20   \n",
      "Electronic accessories Port Harcourt   1105027.2       333  325182.42   \n",
      "Sports and travel      Lagos           1181163.6       333  332103.42   \n",
      "                       Abuja           1332014.4       322  342654.84   \n",
      "Electronic accessories Lagos           1185217.2       322  314007.66   \n",
      "Health and beauty      Abuja           1110182.4       320  342525.60   \n",
      "Electronic accessories Abuja            987112.8       316  292310.46   \n",
      "Food and beverages     Lagos           1147867.2       313  294224.58   \n",
      "Fashion accessories    Abuja           1224115.2       297  281371.14   \n",
      "Home and lifestyle     Abuja            999252.0       295  300842.82   \n",
      "Health and beauty      Port Harcourt   1047783.6       277  284834.16   \n",
      "Food and beverages     Abuja            999720.0       270  260826.66   \n",
      "Sports and travel      Port Harcourt    892738.8       265  270204.48   \n",
      "Fashion accessories    Lagos           1040468.4       263  279985.86   \n",
      "Health and beauty      Lagos            843670.8       257  215961.48   \n",
      "Home and lifestyle     Port Harcourt    880214.4       245  238209.48   \n",
      "\n",
      "                                           Total       cogs  \\\n",
      "Product line           City                                   \n",
      "Home and lifestyle     Lagos          8070190.38  7685895.6   \n",
      "Food and beverages     Port Harcourt  8556067.80  8148636.0   \n",
      "Fashion accessories    Port Harcourt  7761625.20  7392024.0   \n",
      "Electronic accessories Port Harcourt  6828830.82  6503648.4   \n",
      "Sports and travel      Lagos          6974171.82  6642068.4   \n",
      "                       Abuja          7195751.64  6853096.8   \n",
      "Electronic accessories Lagos          6594160.86  6280153.2   \n",
      "Health and beauty      Abuja          7193037.60  6850512.0   \n",
      "Electronic accessories Abuja          6138519.66  5846209.2   \n",
      "Food and beverages     Lagos          6178716.18  5884491.6   \n",
      "Fashion accessories    Abuja          5908793.94  5627422.8   \n",
      "Home and lifestyle     Abuja          6317699.22  6016856.4   \n",
      "Health and beauty      Port Harcourt  5981517.36  5696683.2   \n",
      "Food and beverages     Abuja          5477359.86  5216533.2   \n",
      "Sports and travel      Port Harcourt  5674294.08  5404089.6   \n",
      "Fashion accessories    Lagos          5879703.06  5599717.2   \n",
      "Health and beauty      Lagos          4535191.08  4319229.6   \n",
      "Home and lifestyle     Port Harcourt  5002399.08  4764189.6   \n",
      "\n",
      "                                      gross margin percentage  gross income  \\\n",
      "Product line           City                                                   \n",
      "Home and lifestyle     Lagos                       309.523810     384294.78   \n",
      "Food and beverages     Port Harcourt               314.285714     407431.80   \n",
      "Fashion accessories    Port Harcourt               309.523810     369601.20   \n",
      "Electronic accessories Port Harcourt               261.904762     325182.42   \n",
      "Sports and travel      Lagos                       280.952381     332103.42   \n",
      "                       Abuja                       295.238095     342654.84   \n",
      "Electronic accessories Lagos                       285.714286     314007.66   \n",
      "Health and beauty      Abuja                       252.380952     342525.60   \n",
      "Electronic accessories Abuja                       261.904762     292310.46   \n",
      "Food and beverages     Lagos                       276.190476     294224.58   \n",
      "Fashion accessories    Abuja                       295.238095     281371.14   \n",
      "Home and lifestyle     Abuja                       238.095238     300842.82   \n",
      "Health and beauty      Port Harcourt               247.619048     284834.16   \n",
      "Food and beverages     Abuja                       238.095238     260826.66   \n",
      "Sports and travel      Port Harcourt               214.285714     270204.48   \n",
      "Fashion accessories    Lagos                       242.857143     279985.86   \n",
      "Health and beauty      Lagos                       223.809524     215961.48   \n",
      "Home and lifestyle     Port Harcourt               214.285714     238209.48   \n",
      "\n",
      "                                      Rating   Day  Month    Year  Hour  \n",
      "Product line           City                                              \n",
      "Home and lifestyle     Lagos           450.5   952    128  131235   929  \n",
      "Food and beverages     Port Harcourt   467.3   960    130  133254  1032  \n",
      "Fashion accessories    Port Harcourt   483.6   935    129  131235   970  \n",
      "Electronic accessories Port Harcourt   371.1   868    118  111045   807  \n",
      "Sports and travel      Lagos           428.2   812    115  119121   858  \n",
      "                       Abuja           403.6   984    121  125178   922  \n",
      "Electronic accessories Lagos           414.7  1055    120  121140   877  \n",
      "Health and beauty      Abuja           376.3   930    111  107007   775  \n",
      "Electronic accessories Abuja           391.4   836    110  111045   864  \n",
      "Food and beverages     Lagos           420.7   953    123  117102   871  \n",
      "Fashion accessories    Abuja           416.8   981    120  125178   977  \n",
      "Home and lifestyle     Abuja           325.8   605    108  100950   717  \n",
      "Health and beauty      Port Harcourt   363.9   784     96  104988   766  \n",
      "Food and beverages     Abuja           349.7   732     95  100950   774  \n",
      "Sports and travel      Port Harcourt   316.3   679     79   90855   653  \n",
      "Fashion accessories    Lagos           350.8   801     97  102969   733  \n",
      "Health and beauty      Lagos           324.3   659    105   94893   719  \n",
      "Home and lifestyle     Port Harcourt   317.7   730     88   90855   666  \n"
     ]
    }
   ],
   "source": [
    "# Group by item and location and calculate total sales\n",
    "grouped_df = df3.groupby(['Product line', 'City']).sum()\n",
    "\n",
    "# Sort by sales in descending order\n",
    "sorted_df = grouped_df.sort_values(by='Quantity', ascending = False)\n",
    "\n",
    "# Display the result\n",
    "print(sorted_df)"
   ]
  },
  {
   "cell_type": "code",
   "execution_count": 30,
   "id": "4281b9e0",
   "metadata": {},
   "outputs": [
    {
     "name": "stdout",
     "output_type": "stream",
     "text": [
      "Food and beverages\n"
     ]
    }
   ],
   "source": [
    "grouped_data = df3.groupby('Product line')['gross income'].sum()\n",
    "\n",
    "# Find the item with the highest sales amount\n",
    "highest_grossing_item = grouped_data.idxmax()\n",
    "\n",
    "print(highest_grossing_item)"
   ]
  },
  {
   "cell_type": "code",
   "execution_count": 31,
   "id": "06f4126f",
   "metadata": {},
   "outputs": [
    {
     "name": "stdout",
     "output_type": "stream",
     "text": [
      "Product line\n",
      "Electronic accessories    931500.54\n",
      "Fashion accessories       930958.20\n",
      "Food and beverages        962483.04\n",
      "Health and beauty         843321.24\n",
      "Home and lifestyle        923347.08\n",
      "Sports and travel         944962.74\n",
      "Name: gross income, dtype: float64\n"
     ]
    },
    {
     "data": {
      "text/html": [
       "<div>\n",
       "<style scoped>\n",
       "    .dataframe tbody tr th:only-of-type {\n",
       "        vertical-align: middle;\n",
       "    }\n",
       "\n",
       "    .dataframe tbody tr th {\n",
       "        vertical-align: top;\n",
       "    }\n",
       "\n",
       "    .dataframe thead th {\n",
       "        text-align: right;\n",
       "    }\n",
       "</style>\n",
       "<table border=\"1\" class=\"dataframe\">\n",
       "  <thead>\n",
       "    <tr style=\"text-align: right;\">\n",
       "      <th></th>\n",
       "      <th>Product line</th>\n",
       "      <th>Total Gross Income</th>\n",
       "    </tr>\n",
       "  </thead>\n",
       "  <tbody>\n",
       "    <tr>\n",
       "      <th>0</th>\n",
       "      <td>Food and beverages</td>\n",
       "      <td>962483.04</td>\n",
       "    </tr>\n",
       "  </tbody>\n",
       "</table>\n",
       "</div>"
      ],
      "text/plain": [
       "         Product line  Total Gross Income\n",
       "0  Food and beverages           962483.04"
      ]
     },
     "metadata": {},
     "output_type": "display_data"
    }
   ],
   "source": [
    "# Calculate the total gross income for each item\n",
    "total_gross_income = df3.groupby('Product line')['gross income'].sum()\n",
    "print(total_gross_income)\n",
    "\n",
    "# Find the item with the highest total gross income\n",
    "max_item = total_gross_income.idxmax()\n",
    "max_value = total_gross_income.max()\n",
    "\n",
    "# Create a DataFrame with the result\n",
    "result = pd.DataFrame({'Product line': [max_item], 'Total Gross Income': [max_value]})\n",
    "\n",
    "# Display the result as a table\n",
    "display(result)"
   ]
  },
  {
   "cell_type": "code",
   "execution_count": 32,
   "id": "b63eb785",
   "metadata": {},
   "outputs": [
    {
     "name": "stdout",
     "output_type": "stream",
     "text": [
      "       gross income              gross margin percentage          \n",
      "                sum         mean                     sum      mean\n",
      "Branch                                                            \n",
      "A        1820577.78  5354.640529             1619.047619  4.761905\n",
      "B        1820531.52  5483.528675             1580.952381  4.761905\n",
      "C        1895463.54  5778.852256             1561.904762  4.761905\n"
     ]
    }
   ],
   "source": [
    "# Group the DataFrame by the 'Column' column and apply the sum and mean aggregation functions\n",
    "result = df3.groupby('Branch').agg({'gross income': ['sum', 'mean'], 'gross margin percentage': ['sum', 'mean']})\n",
    "\n",
    "# Print the result\n",
    "print(result)"
   ]
  },
  {
   "cell_type": "code",
   "execution_count": 33,
   "id": "0f8e4a5d",
   "metadata": {},
   "outputs": [
    {
     "data": {
      "text/html": [
       "<div>\n",
       "<style scoped>\n",
       "    .dataframe tbody tr th:only-of-type {\n",
       "        vertical-align: middle;\n",
       "    }\n",
       "\n",
       "    .dataframe tbody tr th {\n",
       "        vertical-align: top;\n",
       "    }\n",
       "\n",
       "    .dataframe thead th {\n",
       "        text-align: right;\n",
       "    }\n",
       "</style>\n",
       "<table border=\"1\" class=\"dataframe\">\n",
       "  <thead>\n",
       "    <tr style=\"text-align: right;\">\n",
       "      <th></th>\n",
       "      <th>Branch</th>\n",
       "      <th>Total Gross Income</th>\n",
       "    </tr>\n",
       "  </thead>\n",
       "  <tbody>\n",
       "    <tr>\n",
       "      <th>0</th>\n",
       "      <td>C</td>\n",
       "      <td>1895463.54</td>\n",
       "    </tr>\n",
       "  </tbody>\n",
       "</table>\n",
       "</div>"
      ],
      "text/plain": [
       "  Branch  Total Gross Income\n",
       "0      C          1895463.54"
      ]
     },
     "metadata": {},
     "output_type": "display_data"
    }
   ],
   "source": [
    "# Calculate the total gross income for each item\n",
    "total_gross_income = df3.groupby('Branch')['gross income'].sum()\n",
    "\n",
    "# Find the item with the highest total gross income\n",
    "max_item = total_gross_income.idxmax()\n",
    "max_value = total_gross_income.max()\n",
    "\n",
    "# Create a DataFrame with the result\n",
    "result = pd.DataFrame({'Branch': [max_item], 'Total Gross Income': [max_value]})\n",
    "\n",
    "# Display the result as a table\n",
    "display(result)"
   ]
  },
  {
   "cell_type": "code",
   "execution_count": 34,
   "id": "7149ac3a",
   "metadata": {},
   "outputs": [
    {
     "name": "stdout",
     "output_type": "stream",
     "text": [
      "               gross income\n",
      "City                       \n",
      "Abuja            1820531.52\n",
      "Lagos            1820577.78\n",
      "Port Harcourt    1895463.54\n",
      "City with the highest total gross income: Port Harcourt\n"
     ]
    }
   ],
   "source": [
    "# Grouping the data by city and calculating the total gross income for each city\n",
    "gross_income_by_city = df3.groupby('City')['gross income'].sum()\n",
    "\n",
    "# Displaying the results as a table\n",
    "print(gross_income_by_city.to_frame())\n",
    "\n",
    "# Determining the city with the highest total gross income\n",
    "highest_gross_income_city = gross_income_by_city.idxmax()\n",
    "print('City with the highest total gross income:', highest_gross_income_city)\n"
   ]
  },
  {
   "cell_type": "code",
   "execution_count": 35,
   "id": "104dd716",
   "metadata": {},
   "outputs": [
    {
     "name": "stdout",
     "output_type": "stream",
     "text": [
      "gross income Summary:\n",
      "count     1000.000000\n",
      "mean      5536.572840\n",
      "std       4215.177173\n",
      "min        183.060000\n",
      "25%       2132.955000\n",
      "50%       4351.680000\n",
      "75%       8080.290000\n",
      "max      17874.000000\n",
      "Name: gross income, dtype: float64\n",
      "Quantity Summary:\n",
      "count    1000.000000\n",
      "mean        5.510000\n",
      "std         2.923431\n",
      "min         1.000000\n",
      "25%         3.000000\n",
      "50%         5.000000\n",
      "75%         8.000000\n",
      "max        10.000000\n",
      "Name: Quantity, dtype: float64\n"
     ]
    },
    {
     "data": {
      "image/png": "[encoded data removed]",
      "text/plain": [
       "<Figure size 432x288 with 1 Axes>"
      ]
     },
     "metadata": {},
     "output_type": "display_data"
    }
   ],
   "source": [
    "# Get summary statistics for the 'Unit Price' column\n",
    "gross_income_summary = df3['gross income'].describe()\n",
    "print('gross income Summary:')\n",
    "print(gross_income_summary)\n",
    "\n",
    "# Get summary statistics for the 'Quantity' column\n",
    "quantity_summary = df3['Quantity'].describe()\n",
    "print('Quantity Summary:')\n",
    "print(quantity_summary)\n",
    "\n",
    "# Plot a histogram of the 'Unit Price' column\n",
    "df3['gross income'].plot.hist(title='Gross Income Histogram')\n",
    "plt.show()"
   ]
  },
  {
   "cell_type": "code",
   "execution_count": 36,
   "id": "f9c7d9da",
   "metadata": {},
   "outputs": [
    {
     "data": {
      "image/png": "[encoded data removed]",
      "text/plain": [
       "<Figure size 432x288 with 1 Axes>"
      ]
     },
     "metadata": {},
     "output_type": "display_data"
    }
   ],
   "source": [
    "# Create a countplot of the 'Branch' column\n",
    "sns.countplot(x='Branch', data=df3)\n",
    "\n",
    "# Add labels and title\n",
    "plt.xlabel('Branch')\n",
    "plt.ylabel('Quantity')\n",
    "plt.title('Branch with Highest Sales Record')\n",
    "\n",
    "# Show the plot\n",
    "plt.show()"
   ]
  },
  {
   "cell_type": "code",
   "execution_count": 37,
   "id": "e27fc3b8",
   "metadata": {},
   "outputs": [
    {
     "name": "stdout",
     "output_type": "stream",
     "text": [
      "  Branch  Month  Quantity\n",
      "0      A      1       685\n",
      "4      B      2       624\n",
      "6      C      1       680\n"
     ]
    }
   ],
   "source": [
    "# Group the data by branch and month and calculate the sum of sales for each group\n",
    "grouped = df3.groupby(['Branch', 'Month'])['Quantity'].sum().reset_index()\n",
    "\n",
    "# Find the month with the highest sales total for each branch\n",
    "result = grouped.loc[grouped.groupby('Branch')['Quantity'].idxmax()]\n",
    "\n",
    "print(result)"
   ]
  },
  {
   "cell_type": "code",
   "execution_count": 38,
   "id": "e75d2cd3",
   "metadata": {},
   "outputs": [
    {
     "data": {
      "image/png": "[encoded data removed]",
      "text/plain": [
       "<Figure size 432x288 with 1 Axes>"
      ]
     },
     "metadata": {},
     "output_type": "display_data"
    }
   ],
   "source": [
    "# Create a countplot of the 'Product line' column\n",
    "sns.countplot(y='Product line', data=df3, order=df3['Product line'].value_counts().index)\n",
    "\n",
    "# Add labels and title\n",
    "plt.xlabel('Number of Sales')\n",
    "plt.ylabel('Product Line')\n",
    "plt.title('Highest & Lowest Sold Product Lines')\n",
    "\n",
    "# Show the plot\n",
    "plt.show()"
   ]
  },
  {
   "cell_type": "code",
   "execution_count": 39,
   "id": "e118dadd",
   "metadata": {},
   "outputs": [
    {
     "name": "stdout",
     "output_type": "stream",
     "text": [
      "Most sold items per location:\n",
      "                        City        Product line  Quantity\n",
      "City                                                      \n",
      "Abuja                  Abuja   Health and beauty        10\n",
      "Lagos                  Lagos  Food and beverages        10\n",
      "Port Harcourt  Port Harcourt  Home and lifestyle        10\n",
      "\n",
      "Least sold items per location:\n",
      "                        City         Product line  Quantity\n",
      "City                                                       \n",
      "Abuja                  Abuja  Fashion accessories         1\n",
      "Lagos                  Lagos    Health and beauty         1\n",
      "Port Harcourt  Port Harcourt    Sports and travel         1\n"
     ]
    }
   ],
   "source": [
    "# Group the dataframe by Location\n",
    "grouped_df3 = df3.groupby('City')\n",
    "\n",
    "# Find the most and least sold items per location\n",
    "most_sold = grouped_df3.apply(lambda x: x.loc[x['Quantity'].idxmax()])\n",
    "least_sold = grouped_df3.apply(lambda x: x.loc[x['Quantity'].idxmin()])\n",
    "\n",
    "# Print the results\n",
    "print('Most sold items per location:')\n",
    "print(most_sold[['City', 'Product line', 'Quantity']])\n",
    "\n",
    "print('\\nLeast sold items per location:')\n",
    "print(least_sold[['City', 'Product line', 'Quantity']])"
   ]
  },
  {
   "cell_type": "code",
   "execution_count": 40,
   "id": "df675dc0",
   "metadata": {},
   "outputs": [
    {
     "name": "stdout",
     "output_type": "stream",
     "text": [
      "Highest sold items per City: <built-in function sum>\n",
      "                        City        Product line  Quantity\n",
      "City                                                      \n",
      "Abuja                  Abuja   Health and beauty        10\n",
      "Lagos                  Lagos  Food and beverages        10\n",
      "Port Harcourt  Port Harcourt  Home and lifestyle        10\n",
      "\n",
      "Lowest sold items per City: <built-in function sum>\n",
      "                        City         Product line  Quantity\n",
      "City                                                       \n",
      "Abuja                  Abuja  Fashion accessories         1\n",
      "Lagos                  Lagos    Health and beauty         1\n",
      "Port Harcourt  Port Harcourt    Sports and travel         1\n"
     ]
    }
   ],
   "source": [
    "# Group the dataframe by Location\n",
    "grouped_df3 = df3.groupby('City')\n",
    "\n",
    "# Find the highest and lowest sold items per location\n",
    "highest_sold = grouped_df3.apply(lambda x: x.loc[x['Quantity'].idxmax()])\n",
    "lowest_sold = grouped_df3.apply(lambda x: x.loc[x['Quantity'].idxmin()])\n",
    "\n",
    "# Print the results\n",
    "print('Highest sold items per City:', (sum))\n",
    "print(highest_sold[['City', 'Product line', 'Quantity']])\n",
    "\n",
    "print('\\nLowest sold items per City:', (sum))\n",
    "print(lowest_sold[['City', 'Product line', 'Quantity']])"
   ]
  },
  {
   "cell_type": "code",
   "execution_count": 41,
   "id": "ac98a5f3",
   "metadata": {},
   "outputs": [
    {
     "name": "stdout",
     "output_type": "stream",
     "text": [
      "                        Unit price  Quantity     Tax 5%        Total  \\\n",
      "Product line                                                           \n",
      "Electronic accessories   3277357.2       971  931500.54  19561511.34   \n",
      "Fashion accessories      3662406.0       902  930958.20  19550122.20   \n",
      "Food and beverages       3508394.4       952  962483.04  20212143.84   \n",
      "Health and beauty        3001636.8       854  843321.24  17709746.04   \n",
      "Home and lifestyle       3186255.6       911  923347.08  19390288.68   \n",
      "Sports and travel        3405916.8       920  944962.74  19844217.54   \n",
      "\n",
      "                              cogs  gross margin percentage  gross income  \\\n",
      "Product line                                                                \n",
      "Electronic accessories  18630010.8               809.523810     931500.54   \n",
      "Fashion accessories     18619164.0               847.619048     930958.20   \n",
      "Food and beverages      19249660.8               828.571429     962483.04   \n",
      "Health and beauty       16866424.8               723.809524     843321.24   \n",
      "Home and lifestyle      18466941.6               761.904762     923347.08   \n",
      "Sports and travel       18899254.8               790.476190     944962.74   \n",
      "\n",
      "                        Rating   Day  Month    Year  Hour  \n",
      "Product line                                               \n",
      "Electronic accessories  1177.2  2759    348  343230  2548  \n",
      "Fashion accessories     1251.2  2717    346  359382  2680  \n",
      "Food and beverages      1237.7  2645    348  351306  2677  \n",
      "Health and beauty       1064.5  2373    312  306888  2260  \n",
      "Home and lifestyle      1094.0  2287    324  323040  2312  \n",
      "Sports and travel       1148.1  2475    315  335154  2433  \n"
     ]
    }
   ],
   "source": [
    "# Calculate the total number of each item sold per location\n",
    "result = df3.groupby('Product line').sum()\n",
    "\n",
    "# Display the result\n",
    "print(result)"
   ]
  },
  {
   "cell_type": "code",
   "execution_count": 42,
   "id": "8d8cdeca",
   "metadata": {},
   "outputs": [
    {
     "data": {
      "text/html": [
       "<div>\n",
       "<style scoped>\n",
       "    .dataframe tbody tr th:only-of-type {\n",
       "        vertical-align: middle;\n",
       "    }\n",
       "\n",
       "    .dataframe tbody tr th {\n",
       "        vertical-align: top;\n",
       "    }\n",
       "\n",
       "    .dataframe thead th {\n",
       "        text-align: right;\n",
       "    }\n",
       "</style>\n",
       "<table border=\"1\" class=\"dataframe\">\n",
       "  <thead>\n",
       "    <tr style=\"text-align: right;\">\n",
       "      <th></th>\n",
       "      <th>Invoice ID</th>\n",
       "      <th>Branch</th>\n",
       "      <th>City</th>\n",
       "      <th>Customer type</th>\n",
       "      <th>Gender</th>\n",
       "      <th>Product line</th>\n",
       "      <th>Unit price</th>\n",
       "      <th>Quantity</th>\n",
       "      <th>Tax 5%</th>\n",
       "      <th>Total</th>\n",
       "      <th>...</th>\n",
       "      <th>Payment</th>\n",
       "      <th>cogs</th>\n",
       "      <th>gross margin percentage</th>\n",
       "      <th>gross income</th>\n",
       "      <th>Rating</th>\n",
       "      <th>Datetime</th>\n",
       "      <th>Day</th>\n",
       "      <th>Month</th>\n",
       "      <th>Year</th>\n",
       "      <th>Hour</th>\n",
       "    </tr>\n",
       "  </thead>\n",
       "  <tbody>\n",
       "    <tr>\n",
       "      <th>0</th>\n",
       "      <td>692-92-5582</td>\n",
       "      <td>B</td>\n",
       "      <td>Abuja</td>\n",
       "      <td>Member</td>\n",
       "      <td>Female</td>\n",
       "      <td>Food and beverages</td>\n",
       "      <td>19742.4</td>\n",
       "      <td>3</td>\n",
       "      <td>2961.36</td>\n",
       "      <td>62188.56</td>\n",
       "      <td>...</td>\n",
       "      <td>Card</td>\n",
       "      <td>59227.2</td>\n",
       "      <td>4.761905</td>\n",
       "      <td>2961.36</td>\n",
       "      <td>5.9</td>\n",
       "      <td>2019-02-20 13:27:00</td>\n",
       "      <td>20</td>\n",
       "      <td>2</td>\n",
       "      <td>2019</td>\n",
       "      <td>13</td>\n",
       "    </tr>\n",
       "  </tbody>\n",
       "</table>\n",
       "<p>1 rows × 22 columns</p>\n",
       "</div>"
      ],
      "text/plain": [
       "    Invoice ID Branch   City Customer type  Gender        Product line  \\\n",
       "0  692-92-5582      B  Abuja        Member  Female  Food and beverages   \n",
       "\n",
       "   Unit price  Quantity   Tax 5%     Total  ... Payment     cogs  \\\n",
       "0     19742.4         3  2961.36  62188.56  ...    Card  59227.2   \n",
       "\n",
       "  gross margin percentage  gross income  Rating            Datetime  Day  \\\n",
       "0                4.761905       2961.36     5.9 2019-02-20 13:27:00   20   \n",
       "\n",
       "  Month  Year  Hour  \n",
       "0     2  2019    13  \n",
       "\n",
       "[1 rows x 22 columns]"
      ]
     },
     "execution_count": 42,
     "metadata": {},
     "output_type": "execute_result"
    }
   ],
   "source": [
    "df3.head(1)"
   ]
  },
  {
   "cell_type": "code",
   "execution_count": 43,
   "id": "79d17069",
   "metadata": {},
   "outputs": [
    {
     "name": "stdout",
     "output_type": "stream",
     "text": [
      "Branch                          A          B          C\n",
      "Product line                                           \n",
      "Electronic accessories  314007.66  292310.46  325182.42\n",
      "Fashion accessories     279985.86  281371.14  369601.20\n",
      "Food and beverages      294224.58  260826.66  407431.80\n",
      "Health and beauty       215961.48  342525.60  284834.16\n",
      "Home and lifestyle      384294.78  300842.82  238209.48\n",
      "Sports and travel       332103.42  342654.84  270204.48\n"
     ]
    }
   ],
   "source": [
    "grouped_df3 = df3.groupby(['Branch', 'Product line']).sum().reset_index()\n",
    "\n",
    "# Pivot the dataframe to get the total quantity of each item per location\n",
    "pivot_df = grouped_df3.pivot(index='Product line', columns='Branch', values='gross income')\n",
    "\n",
    "# Print the results\n",
    "print(pivot_df)"
   ]
  },
  {
   "cell_type": "code",
   "execution_count": 44,
   "id": "5ce903cf",
   "metadata": {},
   "outputs": [
    {
     "data": {
      "image/png": "[encoded data removed]",
      "text/plain": [
       "<Figure size 432x288 with 1 Axes>"
      ]
     },
     "metadata": {},
     "output_type": "display_data"
    }
   ],
   "source": [
    "# Create a countplot with 'Product line' on the Y-axis and 'Payment' as hue\n",
    "sns.countplot(y='Product line', hue='Payment', data=df3)\n",
    "\n",
    "# Add labels and title\n",
    "plt.xlabel('Number of Sales')\n",
    "plt.ylabel('Product Line')\n",
    "plt.title('Payment Channel Used by Most Customers for Each Product Line')\n",
    "\n",
    "# Show the plot\n",
    "plt.show()"
   ]
  },
  {
   "cell_type": "code",
   "execution_count": 45,
   "id": "2675c666",
   "metadata": {},
   "outputs": [
    {
     "data": {
      "image/png": "[encoded data removed]",
      "text/plain": [
       "<Figure size 432x288 with 1 Axes>"
      ]
     },
     "metadata": {},
     "output_type": "display_data"
    }
   ],
   "source": [
    "# Create a countplot of the 'Rating' column\n",
    "sns.countplot(x='Rating', data=df3)\n",
    "\n",
    "# Add labels and title\n",
    "plt.xlabel('Rating')\n",
    "plt.ylabel('Count')\n",
    "plt.title('Highest & Lowest Customer Ratings')\n",
    "\n",
    "# Show the plot\n",
    "plt.show()\n"
   ]
  },
  {
   "cell_type": "code",
   "execution_count": 46,
   "id": "1d600615",
   "metadata": {},
   "outputs": [
    {
     "name": "stdout",
     "output_type": "stream",
     "text": [
      "      Invoice ID Branch           City Customer type  Gender  \\\n",
      "0    692-92-5582      B          Abuja        Member  Female   \n",
      "1    351-62-0822      B          Abuja        Member  Female   \n",
      "2    529-56-3974      B          Abuja        Member    Male   \n",
      "3    299-46-1805      B          Abuja        Member  Female   \n",
      "4    319-50-3348      B          Abuja        Normal  Female   \n",
      "..           ...    ...            ...           ...     ...   \n",
      "995  148-41-7930      C  Port Harcourt        Normal    Male   \n",
      "996  189-40-5216      C  Port Harcourt        Normal    Male   \n",
      "997  267-62-7380      C  Port Harcourt        Member    Male   \n",
      "998  652-49-6720      C  Port Harcourt        Member  Female   \n",
      "999  233-67-5758      C  Port Harcourt        Normal    Male   \n",
      "\n",
      "               Product line  Unit price  Quantity    Tax 5%      Total  ...  \\\n",
      "0        Food and beverages     19742.4         3   2961.36   62188.56  ...   \n",
      "1       Fashion accessories      5212.8         4   1042.56   21893.76  ...   \n",
      "2    Electronic accessories      9183.6         4   1836.72   38571.12  ...   \n",
      "3         Sports and travel     33739.2         6  10121.76  212556.96  ...   \n",
      "4        Home and lifestyle     14508.0         2   1450.80   30466.80  ...   \n",
      "..                      ...         ...       ...       ...        ...  ...   \n",
      "995       Health and beauty     35985.6         7  12594.96  264494.16  ...   \n",
      "996  Electronic accessories     34693.2         7  12142.62  254995.02  ...   \n",
      "997  Electronic accessories     29642.4        10  14821.20  311245.20  ...   \n",
      "998  Electronic accessories     21942.0         1   1097.10   23039.10  ...   \n",
      "999       Health and beauty     14526.0         1    726.30   15252.30  ...   \n",
      "\n",
      "    Payment      cogs gross margin percentage  gross income  Rating  \\\n",
      "0      Card   59227.2                4.761905       2961.36     5.9   \n",
      "1      Epay   20851.2                4.761905       1042.56     4.5   \n",
      "2      Cash   36734.4                4.761905       1836.72     6.8   \n",
      "3      Cash  202435.2                4.761905      10121.76     4.5   \n",
      "4      Epay   29016.0                4.761905       1450.80     4.4   \n",
      "..      ...       ...                     ...           ...     ...   \n",
      "995    Cash  251899.2                4.761905      12594.96     6.1   \n",
      "996    Cash  242852.4                4.761905      12142.62     6.0   \n",
      "997    Epay  296424.0                4.761905      14821.20     4.3   \n",
      "998    Epay   21942.0                4.761905       1097.10     5.9   \n",
      "999    Epay   14526.0                4.761905        726.30     6.2   \n",
      "\n",
      "               Datetime  Day Month  Year  Hour  \n",
      "0   2019-02-20 13:27:00   20     2  2019    13  \n",
      "1   2019-02-06 18:07:00    6     2  2019    18  \n",
      "2   2019-03-09 17:03:00    9     3  2019    17  \n",
      "3   2019-01-15 16:19:00   15     1  2019    16  \n",
      "4   2019-03-11 15:30:00   11     3  2019    15  \n",
      "..                  ...  ...   ...   ...   ...  \n",
      "995 2019-01-23 10:33:00   23     1  2019    10  \n",
      "996 2019-01-09 11:40:00    9     1  2019    11  \n",
      "997 2019-03-29 19:12:00   29     3  2019    19  \n",
      "998 2019-02-18 11:40:00   18     2  2019    11  \n",
      "999 2019-01-29 13:46:00   29     1  2019    13  \n",
      "\n",
      "[1000 rows x 22 columns]\n"
     ]
    }
   ],
   "source": [
    "# Create a boolean mask indicating which values are not missing\n",
    "mask = df3.notna()\n",
    "\n",
    "# Use the mask to access the non-missing values\n",
    "non_missing_values = df3[mask]\n",
    "\n",
    "# Display the result\n",
    "print(non_missing_values)"
   ]
  },
  {
   "cell_type": "code",
   "execution_count": 47,
   "id": "de68e633",
   "metadata": {},
   "outputs": [
    {
     "data": {
      "text/html": [
       "<div>\n",
       "<style scoped>\n",
       "    .dataframe tbody tr th:only-of-type {\n",
       "        vertical-align: middle;\n",
       "    }\n",
       "\n",
       "    .dataframe tbody tr th {\n",
       "        vertical-align: top;\n",
       "    }\n",
       "\n",
       "    .dataframe thead th {\n",
       "        text-align: right;\n",
       "    }\n",
       "</style>\n",
       "<table border=\"1\" class=\"dataframe\">\n",
       "  <thead>\n",
       "    <tr style=\"text-align: right;\">\n",
       "      <th></th>\n",
       "      <th>Invoice ID</th>\n",
       "      <th>Branch</th>\n",
       "      <th>City</th>\n",
       "      <th>Customer type</th>\n",
       "      <th>Gender</th>\n",
       "      <th>Product line</th>\n",
       "      <th>Unit price</th>\n",
       "      <th>Quantity</th>\n",
       "      <th>Tax 5%</th>\n",
       "      <th>Total</th>\n",
       "      <th>...</th>\n",
       "      <th>Payment</th>\n",
       "      <th>cogs</th>\n",
       "      <th>gross margin percentage</th>\n",
       "      <th>gross income</th>\n",
       "      <th>Rating</th>\n",
       "      <th>Datetime</th>\n",
       "      <th>Day</th>\n",
       "      <th>Month</th>\n",
       "      <th>Year</th>\n",
       "      <th>Hour</th>\n",
       "    </tr>\n",
       "  </thead>\n",
       "  <tbody>\n",
       "    <tr>\n",
       "      <th>0</th>\n",
       "      <td>692-92-5582</td>\n",
       "      <td>B</td>\n",
       "      <td>Abuja</td>\n",
       "      <td>Member</td>\n",
       "      <td>Female</td>\n",
       "      <td>Food and beverages</td>\n",
       "      <td>19742.4</td>\n",
       "      <td>3</td>\n",
       "      <td>2961.36</td>\n",
       "      <td>62188.56</td>\n",
       "      <td>...</td>\n",
       "      <td>Card</td>\n",
       "      <td>59227.2</td>\n",
       "      <td>4.761905</td>\n",
       "      <td>2961.36</td>\n",
       "      <td>5.9</td>\n",
       "      <td>2019-02-20 13:27:00</td>\n",
       "      <td>20</td>\n",
       "      <td>2</td>\n",
       "      <td>2019</td>\n",
       "      <td>13</td>\n",
       "    </tr>\n",
       "  </tbody>\n",
       "</table>\n",
       "<p>1 rows × 22 columns</p>\n",
       "</div>"
      ],
      "text/plain": [
       "    Invoice ID Branch   City Customer type  Gender        Product line  \\\n",
       "0  692-92-5582      B  Abuja        Member  Female  Food and beverages   \n",
       "\n",
       "   Unit price  Quantity   Tax 5%     Total  ... Payment     cogs  \\\n",
       "0     19742.4         3  2961.36  62188.56  ...    Card  59227.2   \n",
       "\n",
       "  gross margin percentage  gross income  Rating            Datetime  Day  \\\n",
       "0                4.761905       2961.36     5.9 2019-02-20 13:27:00   20   \n",
       "\n",
       "  Month  Year  Hour  \n",
       "0     2  2019    13  \n",
       "\n",
       "[1 rows x 22 columns]"
      ]
     },
     "execution_count": 47,
     "metadata": {},
     "output_type": "execute_result"
    }
   ],
   "source": [
    "df3.head(1)"
   ]
  },
  {
   "cell_type": "code",
   "execution_count": 48,
   "id": "ea496b2a",
   "metadata": {},
   "outputs": [
    {
     "data": {
      "text/plain": [
       "count    1000.00000\n",
       "mean        6.97270\n",
       "std         1.71858\n",
       "min         4.00000\n",
       "25%         5.50000\n",
       "50%         7.00000\n",
       "75%         8.50000\n",
       "max        10.00000\n",
       "Name: Rating, dtype: float64"
      ]
     },
     "execution_count": 48,
     "metadata": {},
     "output_type": "execute_result"
    }
   ],
   "source": [
    "df3['Rating'].describe()"
   ]
  },
  {
   "cell_type": "code",
   "execution_count": 51,
   "id": "246e855d",
   "metadata": {},
   "outputs": [
    {
     "name": "stdout",
     "output_type": "stream",
     "text": [
      "      Invoice ID Branch           City Customer type  Gender  \\\n",
      "24   510-95-6347      B          Abuja        Member  Female   \n",
      "73   836-82-5858      B          Abuja        Member    Male   \n",
      "99   730-61-8757      B          Abuja        Member    Male   \n",
      "115  182-69-8360      B          Abuja        Normal  Female   \n",
      "223  576-31-4774      B          Abuja        Normal  Female   \n",
      "540  828-46-6863      A          Lagos        Member    Male   \n",
      "594  651-96-5970      A          Lagos        Normal    Male   \n",
      "701  730-50-9884      C  Port Harcourt        Normal  Female   \n",
      "885  131-15-8856      C  Port Harcourt        Member  Female   \n",
      "953  845-94-6841      C  Port Harcourt        Member  Female   \n",
      "961  885-56-0389      C  Port Harcourt        Member    Male   \n",
      "\n",
      "               Product line  Unit price  Quantity    Tax 5%      Total  ...  \\\n",
      "24       Food and beverages     17467.2         3   2620.08   55021.68  ...   \n",
      "73        Health and beauty     24973.2         9  11237.94  235996.74  ...   \n",
      "99        Health and beauty     18406.8         4   3681.36   77308.56  ...   \n",
      "115  Electronic accessories      8514.0         4   1702.80   35758.80  ...   \n",
      "223       Health and beauty     26427.6         3   3964.14   83246.94  ...   \n",
      "540      Food and beverages     35470.8         6  10641.24  223466.04  ...   \n",
      "594     Fashion accessories     16707.6         1    835.38   17542.98  ...   \n",
      "701       Sports and travel     29901.6         7  10465.56  219776.76  ...   \n",
      "885      Food and beverages     26107.2         8  10442.88  219300.48  ...   \n",
      "953      Food and beverages     26236.8         9  11806.56  247937.76  ...   \n",
      "961     Fashion accessories     18846.0         1    942.30   19788.30  ...   \n",
      "\n",
      "    Payment      cogs gross margin percentage  gross income  Rating  \\\n",
      "24     Epay   52401.6                4.761905       2620.08     4.0   \n",
      "73     Epay  224758.8                4.761905      11237.94     4.0   \n",
      "99     Card   73627.2                4.761905       3681.36     4.0   \n",
      "115    Card   34056.0                4.761905       1702.80     4.0   \n",
      "223    Epay   79282.8                4.761905       3964.14     4.0   \n",
      "540    Card  212824.8                4.761905      10641.24     4.0   \n",
      "594    Card   16707.6                4.761905        835.38     4.0   \n",
      "701    Epay  209311.2                4.761905      10465.56     4.0   \n",
      "885    Card  208857.6                4.761905      10442.88     4.0   \n",
      "953    Cash  236131.2                4.761905      11806.56     4.0   \n",
      "961    Cash   18846.0                4.761905        942.30     4.0   \n",
      "\n",
      "               Datetime  Day Month  Year  Hour  \n",
      "24  2019-03-05 18:17:00    5     3  2019    18  \n",
      "73  2019-01-26 19:14:00   26     1  2019    19  \n",
      "99  2019-01-25 10:11:00   25     1  2019    10  \n",
      "115 2019-01-30 13:32:00   30     1  2019    13  \n",
      "223 2019-03-02 13:10:00    2     3  2019    13  \n",
      "540 2019-01-23 11:22:00   23     1  2019    11  \n",
      "594 2019-03-03 20:06:00    3     3  2019    20  \n",
      "701 2019-03-05 14:31:00    5     3  2019    14  \n",
      "885 2019-03-30 19:26:00   30     3  2019    19  \n",
      "953 2019-01-08 19:38:00    8     1  2019    19  \n",
      "961 2019-02-12 17:49:00   12     2  2019    17  \n",
      "\n",
      "[11 rows x 22 columns]\n"
     ]
    }
   ],
   "source": [
    "highest_rating = df3['Rating'].min()\n",
    "highest_rated_items = df3[df3['Rating'] == highest_rating]\n",
    "\n",
    "print(highest_rated_items)\n"
   ]
  },
  {
   "cell_type": "code",
   "execution_count": null,
   "id": "b09600d6",
   "metadata": {},
   "outputs": [],
   "source": []
  }
 ],
 "metadata": {
  "kernelspec": {
   "display_name": "Python 3 (ipykernel)",
   "language": "python",
   "name": "python3"
  },
  "language_info": {
   "codemirror_mode": {
    "name": "ipython",
    "version": 3
   },
   "file_extension": ".py",
   "mimetype": "text/x-python",
   "name": "python",
   "nbconvert_exporter": "python",
   "pygments_lexer": "ipython3",
   "version": "3.9.12"
  }
 },
 "nbformat": 4,
 "nbformat_minor": 5
}
